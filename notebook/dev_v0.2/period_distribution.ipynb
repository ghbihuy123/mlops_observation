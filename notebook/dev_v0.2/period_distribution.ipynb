{
 "cells": [
  {
   "cell_type": "code",
   "execution_count": 2,
   "metadata": {},
   "outputs": [
    {
     "name": "stdout",
     "output_type": "stream",
     "text": [
      "c:\\Users\\HuyLQ15_CTV\\Desktop\\model_monitoring\n"
     ]
    }
   ],
   "source": [
    "%cd ../.."
   ]
  },
  {
   "cell_type": "code",
   "execution_count": 3,
   "metadata": {},
   "outputs": [
    {
     "name": "stderr",
     "output_type": "stream",
     "text": [
      "c:\\Users\\HuyLQ15_CTV\\AppData\\Local\\miniconda3\\envs\\model-monitoring\\lib\\site-packages\\urllib3\\connectionpool.py:1099: InsecureRequestWarning: Unverified HTTPS request is being made to host 'ho-proxy02.tpb.vn'. Adding certificate verification is strongly advised. See: https://urllib3.readthedocs.io/en/latest/advanced-usage.html#tls-warnings\n",
      "  warnings.warn(\n"
     ]
    }
   ],
   "source": [
    "from datetime import time, datetime\n",
    "import pandas as pd\n",
    "import numpy as np\n",
    "import requests\n",
    "import zipfile\n",
    "import io\n",
    "from datetime import datetime, time\n",
    "from evidently import ColumnMapping\n",
    "\n",
    "content = requests.get(\"https://archive.ics.uci.edu/static/public/275/bike+sharing+dataset.zip\", verify=False).content\n",
    "with zipfile.ZipFile(io.BytesIO(content)) as arc:\n",
    "    raw_data = pd.read_csv(arc.open(\"hour.csv\"), header=0, sep=',', parse_dates=['dteday'], index_col='dteday')\n",
    "raw_data.index = raw_data.apply(\n",
    "    lambda row: datetime.combine(row.name, time(hour=int(row['hr']))), axis = 1)"
   ]
  },
  {
   "cell_type": "code",
   "execution_count": 4,
   "metadata": {},
   "outputs": [
    {
     "name": "stderr",
     "output_type": "stream",
     "text": [
      "C:\\Users\\HuyLQ15_CTV\\AppData\\Local\\Temp\\ipykernel_18556\\4123119252.py:11: SettingWithCopyWarning: \n",
      "A value is trying to be set on a copy of a slice from a DataFrame.\n",
      "Try using .loc[row_indexer,col_indexer] = value instead\n",
      "\n",
      "See the caveats in the documentation: https://pandas.pydata.org/pandas-docs/stable/user_guide/indexing.html#returning-a-view-versus-a-copy\n",
      "  current['time_stamp'] = current.index\n",
      "C:\\Users\\HuyLQ15_CTV\\AppData\\Local\\Temp\\ipykernel_18556\\4123119252.py:12: SettingWithCopyWarning: \n",
      "A value is trying to be set on a copy of a slice from a DataFrame.\n",
      "Try using .loc[row_indexer,col_indexer] = value instead\n",
      "\n",
      "See the caveats in the documentation: https://pandas.pydata.org/pandas-docs/stable/user_guide/indexing.html#returning-a-view-versus-a-copy\n",
      "  reference['time_stamp'] = reference.index\n"
     ]
    }
   ],
   "source": [
    "target = 'cnt'\n",
    "prediction = 'prediction'\n",
    "numerical_features = ['temp', 'atemp', 'hum', 'windspeed', 'hr', 'weekday']\n",
    "categorical_features = ['season', 'holiday', 'workingday']\n",
    "column_mapping = ColumnMapping()\n",
    "column_mapping.numerical_features = numerical_features\n",
    "column_mapping.categorical_features = categorical_features\n",
    "\n",
    "reference = raw_data.loc['2011-01-01 00:00:00':'2011-01-31 00:00:00']\n",
    "current = raw_data.loc['2011-02-01 00:00:00':'2011-07-28 23:00:00']\n",
    "current['time_stamp'] = current.index\n",
    "reference['time_stamp'] = reference.index"
   ]
  },
  {
   "cell_type": "markdown",
   "metadata": {},
   "source": [
    "# Utils Function"
   ]
  },
  {
   "cell_type": "code",
   "execution_count": 5,
   "metadata": {},
   "outputs": [
    {
     "name": "stderr",
     "output_type": "stream",
     "text": [
      "c:\\Users\\HuyLQ15_CTV\\AppData\\Local\\miniconda3\\envs\\model-monitoring\\lib\\site-packages\\nannyml\\chunk.py:181: UserWarning: The resulting number of chunks is too low. Please consider splitting your data in a different way or continue at your own risk.\n",
      "  warnings.warn(\n",
      "c:\\Users\\HuyLQ15_CTV\\AppData\\Local\\miniconda3\\envs\\model-monitoring\\lib\\site-packages\\nannyml\\chunk.py:181: UserWarning: The resulting number of chunks is too low. Please consider splitting your data in a different way or continue at your own risk.\n",
      "  warnings.warn(\n"
     ]
    },
    {
     "data": {
      "application/vnd.plotly.v1+json": {
       "config": {
        "plotlyServerURL": "https://plot.ly"
       },
       "data": [
        {
         "customdata": [
          [
           "2011-01",
           "From <b>Jan-01-2011</b> to <b>Jan-31-2011</b>",
           0.6105263157894737,
           406
          ]
         ],
         "hoverlabel": {
          "bgcolor": "rgba(0.23137254901960785, 0.00784313725490196, 0.5019607843137255, 1)",
          "font": {
           "color": "white"
          }
         },
         "hovertemplate": "Chunk %{customdata[0]}: %{customdata[1]}; (%{customdata[2]}, %{customdata[3]})",
         "legendgroup": "workingday",
         "legendgrouptitle": {
          "text": "<b>workingday</b>"
         },
         "marker": {
          "color": "rgba(0.23137254901960785, 0.00784313725490196, 0.5019607843137255, 1)",
          "line": {
           "color": "#00c8e5",
           "width": 0
          }
         },
         "name": "1",
         "offset": 0,
         "orientation": "v",
         "showlegend": true,
         "type": "bar",
         "x": [
          "2011-01-01T00:00:00"
         ],
         "xaxis": "x",
         "y": [
          0.6105263157894737
         ],
         "yaxis": "y",
         "yperiodalignment": "start"
        },
        {
         "customdata": [
          [
           "2011-01",
           "From <b>Jan-01-2011</b> to <b>Jan-31-2011</b>",
           0.3894736842105263,
           259
          ]
         ],
         "hoverlabel": {
          "bgcolor": "rgba(0.0, 0.7843137254901961, 0.8980392156862745, 1)",
          "font": {
           "color": "white"
          }
         },
         "hovertemplate": "Chunk %{customdata[0]}: %{customdata[1]}; (%{customdata[2]}, %{customdata[3]})",
         "legendgroup": "workingday",
         "legendgrouptitle": {
          "text": "<b>workingday</b>"
         },
         "marker": {
          "color": "rgba(0.0, 0.7843137254901961, 0.8980392156862745, 1)",
          "line": {
           "color": "#00c8e5",
           "width": 0
          }
         },
         "name": "0",
         "offset": 0,
         "orientation": "v",
         "showlegend": true,
         "type": "bar",
         "x": [
          "2011-01-01T00:00:00"
         ],
         "xaxis": "x",
         "y": [
          0.3894736842105263
         ],
         "yaxis": "y",
         "yperiodalignment": "start"
        },
        {
         "customdata": [
          [
           "2011-02",
           "From <b>Feb-01-2011</b> to <b>Feb-28-2011</b>",
           0.6718027734976888,
           436
          ],
          [
           "2011-03",
           "From <b>Mar-01-2011</b> to <b>Mar-31-2011</b>",
           0.7410958904109589,
           541
          ],
          [
           "2011-04",
           "From <b>Apr-01-2011</b> to <b>Apr-30-2011</b>",
           0.6662030598052852,
           479
          ],
          [
           "2011-05",
           "From <b>May-01-2011</b> to <b>May-31-2011</b>",
           0.6774193548387096,
           504
          ],
          [
           "2011-06",
           "From <b>Jun-01-2011</b> to <b>Jun-30-2011</b>",
           0.7333333333333333,
           528
          ],
          [
           "2011-07",
           "From <b>Jul-01-2011</b> to <b>Jul-31-2011</b>",
           0.6785714285714286,
           456
          ]
         ],
         "hoverlabel": {
          "bgcolor": "rgba(0.23137254901960785, 0.00784313725490196, 0.5019607843137255, 1)",
          "font": {
           "color": "white"
          }
         },
         "hovertemplate": "Chunk %{customdata[0]}: %{customdata[1]}; (%{customdata[2]}, %{customdata[3]})",
         "legendgroup": "workingday",
         "marker": {
          "color": "rgba(0.23137254901960785, 0.00784313725490196, 0.5019607843137255, 1)",
          "line": {
           "color": "#3b0280",
           "width": 0
          }
         },
         "name": "1",
         "offset": 0,
         "orientation": "v",
         "showlegend": false,
         "type": "bar",
         "x": [
          "2011-02-01T00:00:00",
          "2011-03-01T00:00:00",
          "2011-04-01T00:00:00",
          "2011-05-01T00:00:00",
          "2011-06-01T00:00:00",
          "2011-07-01T00:00:00"
         ],
         "xaxis": "x",
         "y": [
          0.6718027734976888,
          0.7410958904109589,
          0.6662030598052852,
          0.6774193548387096,
          0.7333333333333333,
          0.6785714285714286
         ],
         "yaxis": "y",
         "yperiodalignment": "start"
        },
        {
         "customdata": [
          [
           "2011-02",
           "From <b>Feb-01-2011</b> to <b>Feb-28-2011</b>",
           0.32819722650231126,
           213
          ],
          [
           "2011-03",
           "From <b>Mar-01-2011</b> to <b>Mar-31-2011</b>",
           0.2589041095890411,
           189
          ],
          [
           "2011-04",
           "From <b>Apr-01-2011</b> to <b>Apr-30-2011</b>",
           0.3337969401947149,
           240
          ],
          [
           "2011-05",
           "From <b>May-01-2011</b> to <b>May-31-2011</b>",
           0.3225806451612903,
           240
          ],
          [
           "2011-06",
           "From <b>Jun-01-2011</b> to <b>Jun-30-2011</b>",
           0.26666666666666666,
           192
          ],
          [
           "2011-07",
           "From <b>Jul-01-2011</b> to <b>Jul-31-2011</b>",
           0.32142857142857145,
           216
          ]
         ],
         "hoverlabel": {
          "bgcolor": "rgba(0.0, 0.7843137254901961, 0.8980392156862745, 1)",
          "font": {
           "color": "white"
          }
         },
         "hovertemplate": "Chunk %{customdata[0]}: %{customdata[1]}; (%{customdata[2]}, %{customdata[3]})",
         "legendgroup": "workingday",
         "marker": {
          "color": "rgba(0.0, 0.7843137254901961, 0.8980392156862745, 1)",
          "line": {
           "color": "#3b0280",
           "width": 0
          }
         },
         "name": "0",
         "offset": 0,
         "orientation": "v",
         "showlegend": false,
         "type": "bar",
         "x": [
          "2011-02-01T00:00:00",
          "2011-03-01T00:00:00",
          "2011-04-01T00:00:00",
          "2011-05-01T00:00:00",
          "2011-06-01T00:00:00",
          "2011-07-01T00:00:00"
         ],
         "xaxis": "x",
         "y": [
          0.32819722650231126,
          0.2589041095890411,
          0.3337969401947149,
          0.3225806451612903,
          0.26666666666666666,
          0.32142857142857145
         ],
         "yaxis": "y",
         "yperiodalignment": "start"
        }
       ],
       "layout": {
        "annotations": [
         {
          "font": {
           "size": 16
          },
          "showarrow": false,
          "text": "<b>workingday</b> distribution",
          "x": 0.5,
          "xanchor": "center",
          "xref": "paper",
          "y": 1,
          "yanchor": "bottom",
          "yref": "paper"
         },
         {
          "align": "center",
          "font": {
           "color": "#00c8e5"
          },
          "showarrow": false,
          "text": "Reference",
          "textangle": 0,
          "x": "2011-01-01T00:00:00",
          "xref": "x",
          "y": 1.025,
          "yref": "y"
         },
         {
          "align": "center",
          "font": {
           "color": "#3b0280"
          },
          "showarrow": false,
          "text": "Analysis",
          "textangle": 0,
          "x": "2011-04-16T08:00:00",
          "xref": "x",
          "y": 1.025,
          "yref": "y"
         }
        ],
        "barmode": "relative",
        "height": 500,
        "hoverlabel": {
         "bgcolor": "white",
         "font": {
          "size": 14
         }
        },
        "legend": {
         "itemclick": false,
         "itemdoubleclick": false,
         "traceorder": "grouped"
        },
        "paper_bgcolor": "rgba(255,255,255,1)",
        "plot_bgcolor": "rgba(255,255,255,1)",
        "shapes": [
         {
          "layer": "above",
          "line": {
           "color": "rgba(0.0, 0.7843137254901961, 0.8980392156862745, 0.5)",
           "dash": "dash",
           "width": 2
          },
          "x0": "2011-01-01T00:00:00",
          "x1": "2011-01-31T23:59:59.999999999",
          "xref": "x",
          "y0": 0,
          "y1": 1.05,
          "yref": "y"
         },
         {
          "layer": "above",
          "line": {
           "color": "rgba(0.23137254901960785, 0.00784313725490196, 0.5019607843137255, 0.5)",
           "dash": "dash",
           "width": 2
          },
          "x0": "2011-02-01T00:00:00",
          "x1": "2011-07-31T23:59:59.999999999",
          "xref": "x",
          "y0": 0,
          "y1": 1.05,
          "yref": "y"
         }
        ],
        "template": {
         "data": {
          "bar": [
           {
            "error_x": {
             "color": "#2a3f5f"
            },
            "error_y": {
             "color": "#2a3f5f"
            },
            "marker": {
             "line": {
              "color": "#E5ECF6",
              "width": 0.5
             },
             "pattern": {
              "fillmode": "overlay",
              "size": 10,
              "solidity": 0.2
             }
            },
            "type": "bar"
           }
          ],
          "barpolar": [
           {
            "marker": {
             "line": {
              "color": "#E5ECF6",
              "width": 0.5
             },
             "pattern": {
              "fillmode": "overlay",
              "size": 10,
              "solidity": 0.2
             }
            },
            "type": "barpolar"
           }
          ],
          "carpet": [
           {
            "aaxis": {
             "endlinecolor": "#2a3f5f",
             "gridcolor": "white",
             "linecolor": "white",
             "minorgridcolor": "white",
             "startlinecolor": "#2a3f5f"
            },
            "baxis": {
             "endlinecolor": "#2a3f5f",
             "gridcolor": "white",
             "linecolor": "white",
             "minorgridcolor": "white",
             "startlinecolor": "#2a3f5f"
            },
            "type": "carpet"
           }
          ],
          "choropleth": [
           {
            "colorbar": {
             "outlinewidth": 0,
             "ticks": ""
            },
            "type": "choropleth"
           }
          ],
          "contour": [
           {
            "colorbar": {
             "outlinewidth": 0,
             "ticks": ""
            },
            "colorscale": [
             [
              0,
              "#0d0887"
             ],
             [
              0.1111111111111111,
              "#46039f"
             ],
             [
              0.2222222222222222,
              "#7201a8"
             ],
             [
              0.3333333333333333,
              "#9c179e"
             ],
             [
              0.4444444444444444,
              "#bd3786"
             ],
             [
              0.5555555555555556,
              "#d8576b"
             ],
             [
              0.6666666666666666,
              "#ed7953"
             ],
             [
              0.7777777777777778,
              "#fb9f3a"
             ],
             [
              0.8888888888888888,
              "#fdca26"
             ],
             [
              1,
              "#f0f921"
             ]
            ],
            "type": "contour"
           }
          ],
          "contourcarpet": [
           {
            "colorbar": {
             "outlinewidth": 0,
             "ticks": ""
            },
            "type": "contourcarpet"
           }
          ],
          "heatmap": [
           {
            "colorbar": {
             "outlinewidth": 0,
             "ticks": ""
            },
            "colorscale": [
             [
              0,
              "#0d0887"
             ],
             [
              0.1111111111111111,
              "#46039f"
             ],
             [
              0.2222222222222222,
              "#7201a8"
             ],
             [
              0.3333333333333333,
              "#9c179e"
             ],
             [
              0.4444444444444444,
              "#bd3786"
             ],
             [
              0.5555555555555556,
              "#d8576b"
             ],
             [
              0.6666666666666666,
              "#ed7953"
             ],
             [
              0.7777777777777778,
              "#fb9f3a"
             ],
             [
              0.8888888888888888,
              "#fdca26"
             ],
             [
              1,
              "#f0f921"
             ]
            ],
            "type": "heatmap"
           }
          ],
          "heatmapgl": [
           {
            "colorbar": {
             "outlinewidth": 0,
             "ticks": ""
            },
            "colorscale": [
             [
              0,
              "#0d0887"
             ],
             [
              0.1111111111111111,
              "#46039f"
             ],
             [
              0.2222222222222222,
              "#7201a8"
             ],
             [
              0.3333333333333333,
              "#9c179e"
             ],
             [
              0.4444444444444444,
              "#bd3786"
             ],
             [
              0.5555555555555556,
              "#d8576b"
             ],
             [
              0.6666666666666666,
              "#ed7953"
             ],
             [
              0.7777777777777778,
              "#fb9f3a"
             ],
             [
              0.8888888888888888,
              "#fdca26"
             ],
             [
              1,
              "#f0f921"
             ]
            ],
            "type": "heatmapgl"
           }
          ],
          "histogram": [
           {
            "marker": {
             "pattern": {
              "fillmode": "overlay",
              "size": 10,
              "solidity": 0.2
             }
            },
            "type": "histogram"
           }
          ],
          "histogram2d": [
           {
            "colorbar": {
             "outlinewidth": 0,
             "ticks": ""
            },
            "colorscale": [
             [
              0,
              "#0d0887"
             ],
             [
              0.1111111111111111,
              "#46039f"
             ],
             [
              0.2222222222222222,
              "#7201a8"
             ],
             [
              0.3333333333333333,
              "#9c179e"
             ],
             [
              0.4444444444444444,
              "#bd3786"
             ],
             [
              0.5555555555555556,
              "#d8576b"
             ],
             [
              0.6666666666666666,
              "#ed7953"
             ],
             [
              0.7777777777777778,
              "#fb9f3a"
             ],
             [
              0.8888888888888888,
              "#fdca26"
             ],
             [
              1,
              "#f0f921"
             ]
            ],
            "type": "histogram2d"
           }
          ],
          "histogram2dcontour": [
           {
            "colorbar": {
             "outlinewidth": 0,
             "ticks": ""
            },
            "colorscale": [
             [
              0,
              "#0d0887"
             ],
             [
              0.1111111111111111,
              "#46039f"
             ],
             [
              0.2222222222222222,
              "#7201a8"
             ],
             [
              0.3333333333333333,
              "#9c179e"
             ],
             [
              0.4444444444444444,
              "#bd3786"
             ],
             [
              0.5555555555555556,
              "#d8576b"
             ],
             [
              0.6666666666666666,
              "#ed7953"
             ],
             [
              0.7777777777777778,
              "#fb9f3a"
             ],
             [
              0.8888888888888888,
              "#fdca26"
             ],
             [
              1,
              "#f0f921"
             ]
            ],
            "type": "histogram2dcontour"
           }
          ],
          "mesh3d": [
           {
            "colorbar": {
             "outlinewidth": 0,
             "ticks": ""
            },
            "type": "mesh3d"
           }
          ],
          "parcoords": [
           {
            "line": {
             "colorbar": {
              "outlinewidth": 0,
              "ticks": ""
             }
            },
            "type": "parcoords"
           }
          ],
          "pie": [
           {
            "automargin": true,
            "type": "pie"
           }
          ],
          "scatter": [
           {
            "fillpattern": {
             "fillmode": "overlay",
             "size": 10,
             "solidity": 0.2
            },
            "type": "scatter"
           }
          ],
          "scatter3d": [
           {
            "line": {
             "colorbar": {
              "outlinewidth": 0,
              "ticks": ""
             }
            },
            "marker": {
             "colorbar": {
              "outlinewidth": 0,
              "ticks": ""
             }
            },
            "type": "scatter3d"
           }
          ],
          "scattercarpet": [
           {
            "marker": {
             "colorbar": {
              "outlinewidth": 0,
              "ticks": ""
             }
            },
            "type": "scattercarpet"
           }
          ],
          "scattergeo": [
           {
            "marker": {
             "colorbar": {
              "outlinewidth": 0,
              "ticks": ""
             }
            },
            "type": "scattergeo"
           }
          ],
          "scattergl": [
           {
            "marker": {
             "colorbar": {
              "outlinewidth": 0,
              "ticks": ""
             }
            },
            "type": "scattergl"
           }
          ],
          "scattermapbox": [
           {
            "marker": {
             "colorbar": {
              "outlinewidth": 0,
              "ticks": ""
             }
            },
            "type": "scattermapbox"
           }
          ],
          "scatterpolar": [
           {
            "marker": {
             "colorbar": {
              "outlinewidth": 0,
              "ticks": ""
             }
            },
            "type": "scatterpolar"
           }
          ],
          "scatterpolargl": [
           {
            "marker": {
             "colorbar": {
              "outlinewidth": 0,
              "ticks": ""
             }
            },
            "type": "scatterpolargl"
           }
          ],
          "scatterternary": [
           {
            "marker": {
             "colorbar": {
              "outlinewidth": 0,
              "ticks": ""
             }
            },
            "type": "scatterternary"
           }
          ],
          "surface": [
           {
            "colorbar": {
             "outlinewidth": 0,
             "ticks": ""
            },
            "colorscale": [
             [
              0,
              "#0d0887"
             ],
             [
              0.1111111111111111,
              "#46039f"
             ],
             [
              0.2222222222222222,
              "#7201a8"
             ],
             [
              0.3333333333333333,
              "#9c179e"
             ],
             [
              0.4444444444444444,
              "#bd3786"
             ],
             [
              0.5555555555555556,
              "#d8576b"
             ],
             [
              0.6666666666666666,
              "#ed7953"
             ],
             [
              0.7777777777777778,
              "#fb9f3a"
             ],
             [
              0.8888888888888888,
              "#fdca26"
             ],
             [
              1,
              "#f0f921"
             ]
            ],
            "type": "surface"
           }
          ],
          "table": [
           {
            "cells": {
             "fill": {
              "color": "#EBF0F8"
             },
             "line": {
              "color": "white"
             }
            },
            "header": {
             "fill": {
              "color": "#C8D4E3"
             },
             "line": {
              "color": "white"
             }
            },
            "type": "table"
           }
          ]
         },
         "layout": {
          "annotationdefaults": {
           "arrowcolor": "#2a3f5f",
           "arrowhead": 0,
           "arrowwidth": 1
          },
          "autotypenumbers": "strict",
          "coloraxis": {
           "colorbar": {
            "outlinewidth": 0,
            "ticks": ""
           }
          },
          "colorscale": {
           "diverging": [
            [
             0,
             "#8e0152"
            ],
            [
             0.1,
             "#c51b7d"
            ],
            [
             0.2,
             "#de77ae"
            ],
            [
             0.3,
             "#f1b6da"
            ],
            [
             0.4,
             "#fde0ef"
            ],
            [
             0.5,
             "#f7f7f7"
            ],
            [
             0.6,
             "#e6f5d0"
            ],
            [
             0.7,
             "#b8e186"
            ],
            [
             0.8,
             "#7fbc41"
            ],
            [
             0.9,
             "#4d9221"
            ],
            [
             1,
             "#276419"
            ]
           ],
           "sequential": [
            [
             0,
             "#0d0887"
            ],
            [
             0.1111111111111111,
             "#46039f"
            ],
            [
             0.2222222222222222,
             "#7201a8"
            ],
            [
             0.3333333333333333,
             "#9c179e"
            ],
            [
             0.4444444444444444,
             "#bd3786"
            ],
            [
             0.5555555555555556,
             "#d8576b"
            ],
            [
             0.6666666666666666,
             "#ed7953"
            ],
            [
             0.7777777777777778,
             "#fb9f3a"
            ],
            [
             0.8888888888888888,
             "#fdca26"
            ],
            [
             1,
             "#f0f921"
            ]
           ],
           "sequentialminus": [
            [
             0,
             "#0d0887"
            ],
            [
             0.1111111111111111,
             "#46039f"
            ],
            [
             0.2222222222222222,
             "#7201a8"
            ],
            [
             0.3333333333333333,
             "#9c179e"
            ],
            [
             0.4444444444444444,
             "#bd3786"
            ],
            [
             0.5555555555555556,
             "#d8576b"
            ],
            [
             0.6666666666666666,
             "#ed7953"
            ],
            [
             0.7777777777777778,
             "#fb9f3a"
            ],
            [
             0.8888888888888888,
             "#fdca26"
            ],
            [
             1,
             "#f0f921"
            ]
           ]
          },
          "colorway": [
           "#636efa",
           "#EF553B",
           "#00cc96",
           "#ab63fa",
           "#FFA15A",
           "#19d3f3",
           "#FF6692",
           "#B6E880",
           "#FF97FF",
           "#FECB52"
          ],
          "font": {
           "color": "#2a3f5f"
          },
          "geo": {
           "bgcolor": "white",
           "lakecolor": "white",
           "landcolor": "#E5ECF6",
           "showlakes": true,
           "showland": true,
           "subunitcolor": "white"
          },
          "hoverlabel": {
           "align": "left"
          },
          "hovermode": "closest",
          "mapbox": {
           "style": "light"
          },
          "paper_bgcolor": "white",
          "plot_bgcolor": "#E5ECF6",
          "polar": {
           "angularaxis": {
            "gridcolor": "white",
            "linecolor": "white",
            "ticks": ""
           },
           "bgcolor": "#E5ECF6",
           "radialaxis": {
            "gridcolor": "white",
            "linecolor": "white",
            "ticks": ""
           }
          },
          "scene": {
           "xaxis": {
            "backgroundcolor": "#E5ECF6",
            "gridcolor": "white",
            "gridwidth": 2,
            "linecolor": "white",
            "showbackground": true,
            "ticks": "",
            "zerolinecolor": "white"
           },
           "yaxis": {
            "backgroundcolor": "#E5ECF6",
            "gridcolor": "white",
            "gridwidth": 2,
            "linecolor": "white",
            "showbackground": true,
            "ticks": "",
            "zerolinecolor": "white"
           },
           "zaxis": {
            "backgroundcolor": "#E5ECF6",
            "gridcolor": "white",
            "gridwidth": 2,
            "linecolor": "white",
            "showbackground": true,
            "ticks": "",
            "zerolinecolor": "white"
           }
          },
          "shapedefaults": {
           "line": {
            "color": "#2a3f5f"
           }
          },
          "ternary": {
           "aaxis": {
            "gridcolor": "white",
            "linecolor": "white",
            "ticks": ""
           },
           "baxis": {
            "gridcolor": "white",
            "linecolor": "white",
            "ticks": ""
           },
           "bgcolor": "#E5ECF6",
           "caxis": {
            "gridcolor": "white",
            "linecolor": "white",
            "ticks": ""
           }
          },
          "title": {
           "x": 0.05
          },
          "xaxis": {
           "automargin": true,
           "gridcolor": "white",
           "linecolor": "white",
           "ticks": "",
           "title": {
            "standoff": 15
           },
           "zerolinecolor": "white",
           "zerolinewidth": 2
          },
          "yaxis": {
           "automargin": true,
           "gridcolor": "white",
           "linecolor": "white",
           "ticks": "",
           "title": {
            "standoff": 15
           },
           "zerolinecolor": "white",
           "zerolinewidth": 2
          }
         }
        },
        "title": {
         "text": "Column distributions"
        },
        "xaxis": {
         "anchor": "y",
         "domain": [
          0,
          1
         ],
         "linecolor": "#3b0280",
         "matches": "x",
         "mirror": false,
         "showgrid": false,
         "showline": false,
         "title": {
          "text": "Time"
         },
         "zeroline": false
        },
        "yaxis": {
         "anchor": "x",
         "domain": [
          0,
          1
         ],
         "linecolor": "#3b0280",
         "mirror": false,
         "showgrid": false,
         "showline": false,
         "title": {
          "text": "Values"
         },
         "zeroline": false
        }
       }
      }
     },
     "metadata": {},
     "output_type": "display_data"
    }
   ],
   "source": [
    "from nannyml.distribution import CategoricalDistributionCalculator\n",
    "\n",
    "categorical_dist = CategoricalDistributionCalculator(\n",
    "    column_names=['workingday'],\n",
    "    timestamp_column_name = 'time_stamp',\n",
    "    chunk_period='M',\n",
    ")\n",
    "categorical_dist.fit(reference).calculate(current).filter(period='all', column_names=['workingday']).plot(kind='distribution')"
   ]
  },
  {
   "cell_type": "code",
   "execution_count": 6,
   "metadata": {},
   "outputs": [
    {
     "name": "stderr",
     "output_type": "stream",
     "text": [
      "c:\\Users\\HuyLQ15_CTV\\AppData\\Local\\miniconda3\\envs\\model-monitoring\\lib\\site-packages\\nannyml\\chunk.py:181: UserWarning:\n",
      "\n",
      "The resulting number of chunks is too low. Please consider splitting your data in a different way or continue at your own risk.\n",
      "\n",
      "c:\\Users\\HuyLQ15_CTV\\AppData\\Local\\miniconda3\\envs\\model-monitoring\\lib\\site-packages\\nannyml\\chunk.py:181: UserWarning:\n",
      "\n",
      "The resulting number of chunks is too low. Please consider splitting your data in a different way or continue at your own risk.\n",
      "\n"
     ]
    },
    {
     "data": {
      "text/plain": [
       "Scatter({\n",
       "    'hoverinfo': 'skip',\n",
       "    'line': {'color': <Colors.BLUE_SKY_CRAYOLA: '#00c8e5'>, 'width': 1},\n",
       "    'mode': 'lines',\n",
       "    'name': 'Reference',\n",
       "    'showlegend': False,\n",
       "    'x': array(['2010-12-31T23:15:52.389722905', '2010-12-31T21:23:15.086181636',\n",
       "                '2010-12-31T14:17:15.621890120', '2010-12-30T21:59:44.866914464',\n",
       "                '2010-12-29T20:40:44.302621879', '2010-12-28T17:32:28.171963638',\n",
       "                '2010-12-27T21:39:15.584714684', '2010-12-27T13:25:13.211330664',\n",
       "                '2010-12-27T14:30:32.059992198', '2010-12-27T16:50:45.192592149',\n",
       "                '2010-12-27T09:49:04.204824501', '2010-12-26T10:00:37.366545912',\n",
       "                '2010-12-24T17:49:19.071052544', '2010-12-22T11:32:27.601455514',\n",
       "                '2010-12-19T09:21:26.149682595', '2010-12-15T04:22:17.280489031',\n",
       "                '2010-12-10T07:08:06.182469552', '2010-12-06T01:12:49.542035495',\n",
       "                '2010-12-03T19:08:31.624843128', '2010-12-03T12:22:02.198860563',\n",
       "                '2010-12-03T11:31:41.928510165', '2010-12-02T08:57:46.473317573',\n",
       "                '2010-12-01T00:00:00.000000001', '2010-12-01T03:14:27.188646082',\n",
       "                '2010-12-03T15:32:55.422773850', '2010-12-07T23:09:27.664618515',\n",
       "                '2010-12-12T18:31:35.675504363', '2010-12-17T03:50:39.299746426',\n",
       "                '2010-12-20T19:49:34.895160937', '2010-12-23T10:31:59.036392523',\n",
       "                '2010-12-24T17:41:58.911318663', '2010-12-25T05:16:53.039852070',\n",
       "                '2010-12-25T19:37:28.253402355', '2010-12-26T21:21:45.874586190',\n",
       "                '2010-12-28T02:14:36.998580158', '2010-12-28T23:27:41.343430510',\n",
       "                '2010-12-29T10:22:41.292282279', '2010-12-29T16:18:26.108595602',\n",
       "                '2010-12-29T21:05:02.559075627', '2010-12-29T22:19:25.082987315',\n",
       "                '2010-12-29T18:54:40.868216040', '2010-12-29T15:52:31.963580181',\n",
       "                '2010-12-29T18:01:12.432496052', '2010-12-30T00:19:48.250838055',\n",
       "                '2010-12-30T06:16:31.664089685', '2010-12-30T09:28:02.429205064',\n",
       "                '2010-12-30T12:57:54.049971379', '2010-12-30T21:03:44.256764203',\n",
       "                '2010-12-31T08:21:14.517362291', '2010-12-31T17:30:30.684161070',\n",
       "                '2010-12-31T22:05:16.826243048', '2010-12-31T23:18:05.056421044'],\n",
       "               dtype='datetime64[ns]'),\n",
       "    'xaxis': 'x',\n",
       "    'y': array([-3.13597274e-02, -2.07493764e-02, -1.01390254e-02,  4.71325634e-04,\n",
       "                 1.10816767e-02,  2.16920277e-02,  3.23023787e-02,  4.29127297e-02,\n",
       "                 5.35230808e-02,  6.41334318e-02,  7.47437828e-02,  8.53541338e-02,\n",
       "                 9.59644848e-02,  1.06574836e-01,  1.17185187e-01,  1.27795538e-01,\n",
       "                 1.38405889e-01,  1.49016240e-01,  1.59626591e-01,  1.70236942e-01,\n",
       "                 1.80847293e-01,  1.91457644e-01,  2.02067995e-01,  2.12678346e-01,\n",
       "                 2.23288697e-01,  2.33899048e-01,  2.44509399e-01,  2.55119750e-01,\n",
       "                 2.65730101e-01,  2.76340452e-01,  2.86950803e-01,  2.97561154e-01,\n",
       "                 3.08171505e-01,  3.18781856e-01,  3.29392207e-01,  3.40002558e-01,\n",
       "                 3.50612909e-01,  3.61223260e-01,  3.71833611e-01,  3.82443962e-01,\n",
       "                 3.93054314e-01,  4.03664665e-01,  4.14275016e-01,  4.24885367e-01,\n",
       "                 4.35495718e-01,  4.46106069e-01,  4.56716420e-01,  4.67326771e-01,\n",
       "                 4.77937122e-01,  4.88547473e-01,  4.99157824e-01,  5.09768175e-01]),\n",
       "    'yaxis': 'y'\n",
       "})"
      ]
     },
     "execution_count": 6,
     "metadata": {},
     "output_type": "execute_result"
    }
   ],
   "source": [
    "from nannyml.distribution import ContinuousDistributionCalculator\n",
    "\n",
    "continuous_dist = ContinuousDistributionCalculator(\n",
    "    column_names=['temp'],\n",
    "    timestamp_column_name = 'time_stamp',\n",
    "    chunk_period='M',\n",
    ")\n",
    "fig = continuous_dist.fit(reference).calculate(current).filter(period='all', column_names='temp').plot(kind='distribution')\n",
    "fig.data[0]"
   ]
  },
  {
   "cell_type": "code",
   "execution_count": 7,
   "metadata": {},
   "outputs": [],
   "source": [
    "import evidently.options as evidently_options\n",
    "from typing import List, Optional\n",
    "class ColorOptions(evidently_options.ColorOptions):\n",
    "    primary_gradient_color: List[str] = ['#ed0400','rgba(255, 0, 0, 0.3)']\n",
    "    secondary_gradient_color: List[str] = ['#00c8e5', 'rgba(0.0, 0.7843137254901961, 0.8980392156862745, 0.2)']"
   ]
  },
  {
   "cell_type": "code",
   "execution_count": 8,
   "metadata": {},
   "outputs": [],
   "source": [
    "from nannyml.drift.univariate import UnivariateDriftCalculator\n",
    "import plotly.graph_objects as go\n",
    "from typing import Union\n",
    "def drift_distribution_num_plot(\n",
    "    reference: pd.DataFrame, \n",
    "    current: pd.DataFrame, \n",
    "    col: str, \n",
    "    timestamp_col: str,\n",
    "    num_drift_methods: List[str]=['kolmogorov_smirnov'],\n",
    "    color_option: ColorOptions = ColorOptions(),\n",
    "    chunk_period: str = \"M\",\n",
    ") -> go.Figure:\n",
    "    drift = UnivariateDriftCalculator(\n",
    "        column_names=col,\n",
    "        treat_as_numerical=col,\n",
    "        timestamp_column_name=timestamp_col,\n",
    "        continuous_methods=num_drift_methods,\n",
    "        chunk_period=chunk_period, \n",
    "    ).fit(reference_data=reference)\n",
    "    fig = drift.calculate(data=current).plot(kind='distribution')\n",
    "\n",
    "    bg_color = fig.layout.plot_bgcolor or fig.layout.paper_bgcolor\n",
    "    axis_line_color = 'white' if bg_color in ['black', '#000000', '#111111'] else 'black'\n",
    "    fig.update_layout(\n",
    "        xaxis=dict(\n",
    "            type=\"date\",\n",
    "            title=\"Time\",\n",
    "            showline=True,\n",
    "            linecolor=axis_line_color,\n",
    "        ),\n",
    "        yaxis=dict(\n",
    "            title=\"Value\",\n",
    "            showline=True,\n",
    "            linecolor=axis_line_color,\n",
    "        ),\n",
    "        showlegend=True,\n",
    "        plot_bgcolor='rgba(0,0,0,0)',\n",
    "        paper_bgcolor='rgba(0,0,0,0)',\n",
    "    )\n",
    "    return fig\n",
    "\n",
    "def drift_distribution_cat_plot(\n",
    "    reference: pd.DataFrame, \n",
    "    current: pd.DataFrame, \n",
    "    col: str, \n",
    "    timestamp_col: str,\n",
    "    cat_drift_method: Union[List[str], str] = ['jensen_shannon'],\n",
    "    color_option: ColorOptions = ColorOptions(),\n",
    "    chunk_period: str = \"M\",\n",
    ") -> go.Figure:\n",
    "    drift = UnivariateDriftCalculator(\n",
    "        column_names=col,\n",
    "        treat_as_categorical=col,\n",
    "        timestamp_column_name=timestamp_col,\n",
    "        categorical_methods=cat_drift_method,\n",
    "        chunk_period=chunk_period, \n",
    "    ).fit(reference_data=reference)\n",
    "    fig = drift.calculate(data=current).plot(kind='distribution')\n",
    "    bg_color = fig.layout.plot_bgcolor or fig.layout.paper_bgcolor\n",
    "    axis_line_color = 'white' if bg_color in ['black', '#000000', '#111111'] else 'black'\n",
    "    fig.update_layout(\n",
    "    xaxis=dict(\n",
    "        type=\"date\",\n",
    "        title=\"Time\",\n",
    "        showline=True,\n",
    "        linecolor=axis_line_color,\n",
    "    ),\n",
    "    yaxis=dict(\n",
    "        title=\"Value\",\n",
    "        showline=True,\n",
    "        linecolor=axis_line_color,\n",
    "    ),\n",
    "    showlegend=True,\n",
    "    plot_bgcolor='rgba(0,0,0,0)',\n",
    "    paper_bgcolor='rgba(0,0,0,0)',\n",
    "    )\n",
    "    for annotation in fig.layout.annotations:\n",
    "        annotation.font.color = None\n",
    "    return fig\n"
   ]
  },
  {
   "cell_type": "code",
   "execution_count": 10,
   "metadata": {},
   "outputs": [
    {
     "name": "stderr",
     "output_type": "stream",
     "text": [
      "c:\\Users\\HuyLQ15_CTV\\AppData\\Local\\miniconda3\\envs\\model-monitoring\\lib\\site-packages\\nannyml\\chunk.py:181: UserWarning:\n",
      "\n",
      "The resulting number of chunks is too low. Please consider splitting your data in a different way or continue at your own risk.\n",
      "\n",
      "c:\\Users\\HuyLQ15_CTV\\AppData\\Local\\miniconda3\\envs\\model-monitoring\\lib\\site-packages\\nannyml\\chunk.py:181: UserWarning:\n",
      "\n",
      "The resulting number of chunks is too low. Please consider splitting your data in a different way or continue at your own risk.\n",
      "\n"
     ]
    },
    {
     "data": {
      "application/vnd.plotly.v1+json": {
       "config": {
        "plotlyServerURL": "https://plot.ly"
       },
       "data": [
        {
         "hoverinfo": "skip",
         "legendgroup": "metric_reference",
         "line": {
          "color": "#00c8e5",
          "shape": "hv",
          "width": 2
         },
         "mode": "lines",
         "name": "Method",
         "showlegend": true,
         "type": "scatter",
         "x": [
          "2011-01-01T00:00:00",
          "2011-01-31T23:59:59.999999"
         ],
         "xaxis": "x",
         "y": [
          0,
          0
         ],
         "yaxis": "y"
        },
        {
         "customdata": [
          [
           "Jensen-Shannon distance for <b>season</b>",
           "<b style=\"color:#00c8e5;line-height:60px\">Reference</b>",
           "",
           "2011-01",
           "From <b>Jan-01-2011</b> to <b>Jan-31-2011</b>",
           0
          ]
         ],
         "hovertemplate": "%{customdata[1]} &nbsp; &nbsp; %{customdata[2]} <br />Chunk: <b>%{customdata[3]}</b> &nbsp; &nbsp; %{customdata[4]} <br />%{customdata[0]}: <b>%{customdata[5]}</b><b r /><extra></extra>",
         "legendgroup": "metric_reference",
         "marker": {
          "color": "#00c8e5",
          "size": 5,
          "symbol": "circle"
         },
         "mode": "markers",
         "name": "Method",
         "showlegend": false,
         "type": "scatter",
         "x": [
          "2011-01-16T11:59:59.999999"
         ],
         "xaxis": "x",
         "y": [
          0,
          0
         ],
         "yaxis": "y"
        },
        {
         "hoverinfo": "skip",
         "legendgroup": "metric_analysis",
         "line": {
          "color": "#00c8e5",
          "shape": "hv",
          "width": 2
         },
         "mode": "lines",
         "name": "Method",
         "showlegend": false,
         "type": "scatter",
         "x": [
          "2011-02-01T00:00:00",
          "2011-03-01T00:00:00",
          "2011-04-01T00:00:00",
          "2011-05-01T00:00:00",
          "2011-06-01T00:00:00",
          "2011-07-01T00:00:00",
          "2011-07-31T23:59:59.999999"
         ],
         "xaxis": "x",
         "y": [
          0,
          0.4540230921203766,
          1,
          1,
          1,
          1,
          1
         ],
         "yaxis": "y"
        },
        {
         "customdata": [
          [
           "Jensen-Shannon distance for <b>season</b>",
           "<b style=\"color:#00c8e5;line-height:60px\">Analysis</b>",
           "",
           "2011-02",
           "From <b>Feb-01-2011</b> to <b>Feb-28-2011</b>",
           0
          ],
          [
           "Jensen-Shannon distance for <b>season</b>",
           "<b style=\"color:#00c8e5;line-height:60px\">Analysis</b>",
           "<span style=\"color:#AD0000\">⚠ <b>Drift detected</b></span>",
           "2011-03",
           "From <b>Mar-01-2011</b> to <b>Mar-31-2011</b>",
           0.454
          ],
          [
           "Jensen-Shannon distance for <b>season</b>",
           "<b style=\"color:#00c8e5;line-height:60px\">Analysis</b>",
           "<span style=\"color:#AD0000\">⚠ <b>Drift detected</b></span>",
           "2011-04",
           "From <b>Apr-01-2011</b> to <b>Apr-30-2011</b>",
           1
          ],
          [
           "Jensen-Shannon distance for <b>season</b>",
           "<b style=\"color:#00c8e5;line-height:60px\">Analysis</b>",
           "<span style=\"color:#AD0000\">⚠ <b>Drift detected</b></span>",
           "2011-05",
           "From <b>May-01-2011</b> to <b>May-31-2011</b>",
           1
          ],
          [
           "Jensen-Shannon distance for <b>season</b>",
           "<b style=\"color:#00c8e5;line-height:60px\">Analysis</b>",
           "<span style=\"color:#AD0000\">⚠ <b>Drift detected</b></span>",
           "2011-06",
           "From <b>Jun-01-2011</b> to <b>Jun-30-2011</b>",
           1
          ],
          [
           "Jensen-Shannon distance for <b>season</b>",
           "<b style=\"color:#00c8e5;line-height:60px\">Analysis</b>",
           "<span style=\"color:#AD0000\">⚠ <b>Drift detected</b></span>",
           "2011-07",
           "From <b>Jul-01-2011</b> to <b>Jul-31-2011</b>",
           1
          ]
         ],
         "hovertemplate": "%{customdata[1]} &nbsp; &nbsp; %{customdata[2]} <br />Chunk: <b>%{customdata[3]}</b> &nbsp; &nbsp; %{customdata[4]} <br />%{customdata[0]}: <b>%{customdata[5]}</b><b r /><extra></extra>",
         "legendgroup": "metric_analysis",
         "marker": {
          "color": "#00c8e5",
          "size": 5,
          "symbol": "circle"
         },
         "mode": "markers",
         "name": "Method",
         "showlegend": false,
         "type": "scatter",
         "x": [
          "2011-02-15T00:00:00",
          "2011-03-16T12:00:00",
          "2011-04-16T00:00:00",
          "2011-05-16T12:00:00",
          "2011-06-16T00:00:00",
          "2011-07-16T11:59:59.999999"
         ],
         "xaxis": "x",
         "y": [
          0,
          0.4540230921203766,
          1,
          1,
          1,
          1,
          1
         ],
         "yaxis": "y"
        },
        {
         "hoverinfo": "skip",
         "legendgroup": "alert",
         "marker": {
          "color": "#DD4040",
          "size": 8,
          "symbol": "diamond"
         },
         "mode": "markers",
         "name": "Alert",
         "showlegend": true,
         "type": "scatter",
         "x": [
          "2011-03-16T12:00:00",
          "2011-04-16T00:00:00",
          "2011-05-16T12:00:00",
          "2011-06-16T00:00:00",
          "2011-07-16T11:59:59.999999"
         ],
         "xaxis": "x",
         "y": [
          0.4540230921203766,
          1,
          1,
          1,
          1
         ],
         "yaxis": "y"
        },
        {
         "hoverinfo": "skip",
         "legendgroup": "thresh",
         "line": {
          "color": "#DD4040",
          "dash": "dash",
          "width": 2
         },
         "mode": "lines",
         "name": "Threshold",
         "showlegend": true,
         "type": "scatter",
         "x": [
          "2011-01-01T00:00:00",
          "2011-01-31T23:59:59.999999"
         ],
         "xaxis": "x",
         "y": [
          0,
          0
         ],
         "yaxis": "y"
        },
        {
         "hoverinfo": "skip",
         "legendgroup": "thresh",
         "line": {
          "color": "#DD4040",
          "dash": "dash",
          "width": 2
         },
         "mode": "lines",
         "name": "Threshold",
         "showlegend": false,
         "type": "scatter",
         "x": [
          "2011-02-01T00:00:00",
          "2011-03-01T00:00:00",
          "2011-04-01T00:00:00",
          "2011-05-01T00:00:00",
          "2011-06-01T00:00:00",
          "2011-07-01T00:00:00",
          "2011-07-31T23:59:59.999999"
         ],
         "xaxis": "x",
         "y": [
          0,
          0,
          0,
          0,
          0,
          0,
          0
         ],
         "yaxis": "y"
        }
       ],
       "layout": {
        "annotations": [
         {
          "font": {
           "size": 16
          },
          "showarrow": false,
          "text": "Jensen-Shannon distance for <b>season</b>",
          "x": 0.5,
          "xanchor": "center",
          "xref": "paper",
          "y": 1,
          "yanchor": "bottom",
          "yref": "paper"
         },
         {
          "showarrow": false,
          "text": "Reference",
          "x": "2011-01-01T00:00:00",
          "xref": "x",
          "xshift": 10,
          "y": 1.01,
          "yref": "y domain"
         },
         {
          "showarrow": false,
          "text": "Analysis",
          "x": "2011-04-16T08:00:00",
          "xref": "x",
          "xshift": 15,
          "y": 1.01,
          "yref": "y domain"
         }
        ],
        "height": 500,
        "hoverlabel": {
         "bgcolor": "white",
         "font": {
          "size": 14
         }
        },
        "legend": {
         "itemclick": false,
         "itemdoubleclick": false,
         "traceorder": "grouped"
        },
        "paper_bgcolor": "rgba(0,0,0,0)",
        "plot_bgcolor": "rgba(0,0,0,0)",
        "shapes": [
         {
          "layer": "below",
          "line": {
           "color": "#666666",
           "width": 1
          },
          "type": "line",
          "x0": "2011-02-01T00:00:00",
          "x1": "2011-02-01T00:00:00",
          "xref": "x",
          "y0": 0,
          "y1": 1,
          "yref": "y domain"
         }
        ],
        "showlegend": true,
        "template": {
         "data": {
          "bar": [
           {
            "error_x": {
             "color": "#2a3f5f"
            },
            "error_y": {
             "color": "#2a3f5f"
            },
            "marker": {
             "line": {
              "color": "#E5ECF6",
              "width": 0.5
             },
             "pattern": {
              "fillmode": "overlay",
              "size": 10,
              "solidity": 0.2
             }
            },
            "type": "bar"
           }
          ],
          "barpolar": [
           {
            "marker": {
             "line": {
              "color": "#E5ECF6",
              "width": 0.5
             },
             "pattern": {
              "fillmode": "overlay",
              "size": 10,
              "solidity": 0.2
             }
            },
            "type": "barpolar"
           }
          ],
          "carpet": [
           {
            "aaxis": {
             "endlinecolor": "#2a3f5f",
             "gridcolor": "white",
             "linecolor": "white",
             "minorgridcolor": "white",
             "startlinecolor": "#2a3f5f"
            },
            "baxis": {
             "endlinecolor": "#2a3f5f",
             "gridcolor": "white",
             "linecolor": "white",
             "minorgridcolor": "white",
             "startlinecolor": "#2a3f5f"
            },
            "type": "carpet"
           }
          ],
          "choropleth": [
           {
            "colorbar": {
             "outlinewidth": 0,
             "ticks": ""
            },
            "type": "choropleth"
           }
          ],
          "contour": [
           {
            "colorbar": {
             "outlinewidth": 0,
             "ticks": ""
            },
            "colorscale": [
             [
              0,
              "#0d0887"
             ],
             [
              0.1111111111111111,
              "#46039f"
             ],
             [
              0.2222222222222222,
              "#7201a8"
             ],
             [
              0.3333333333333333,
              "#9c179e"
             ],
             [
              0.4444444444444444,
              "#bd3786"
             ],
             [
              0.5555555555555556,
              "#d8576b"
             ],
             [
              0.6666666666666666,
              "#ed7953"
             ],
             [
              0.7777777777777778,
              "#fb9f3a"
             ],
             [
              0.8888888888888888,
              "#fdca26"
             ],
             [
              1,
              "#f0f921"
             ]
            ],
            "type": "contour"
           }
          ],
          "contourcarpet": [
           {
            "colorbar": {
             "outlinewidth": 0,
             "ticks": ""
            },
            "type": "contourcarpet"
           }
          ],
          "heatmap": [
           {
            "colorbar": {
             "outlinewidth": 0,
             "ticks": ""
            },
            "colorscale": [
             [
              0,
              "#0d0887"
             ],
             [
              0.1111111111111111,
              "#46039f"
             ],
             [
              0.2222222222222222,
              "#7201a8"
             ],
             [
              0.3333333333333333,
              "#9c179e"
             ],
             [
              0.4444444444444444,
              "#bd3786"
             ],
             [
              0.5555555555555556,
              "#d8576b"
             ],
             [
              0.6666666666666666,
              "#ed7953"
             ],
             [
              0.7777777777777778,
              "#fb9f3a"
             ],
             [
              0.8888888888888888,
              "#fdca26"
             ],
             [
              1,
              "#f0f921"
             ]
            ],
            "type": "heatmap"
           }
          ],
          "heatmapgl": [
           {
            "colorbar": {
             "outlinewidth": 0,
             "ticks": ""
            },
            "colorscale": [
             [
              0,
              "#0d0887"
             ],
             [
              0.1111111111111111,
              "#46039f"
             ],
             [
              0.2222222222222222,
              "#7201a8"
             ],
             [
              0.3333333333333333,
              "#9c179e"
             ],
             [
              0.4444444444444444,
              "#bd3786"
             ],
             [
              0.5555555555555556,
              "#d8576b"
             ],
             [
              0.6666666666666666,
              "#ed7953"
             ],
             [
              0.7777777777777778,
              "#fb9f3a"
             ],
             [
              0.8888888888888888,
              "#fdca26"
             ],
             [
              1,
              "#f0f921"
             ]
            ],
            "type": "heatmapgl"
           }
          ],
          "histogram": [
           {
            "marker": {
             "pattern": {
              "fillmode": "overlay",
              "size": 10,
              "solidity": 0.2
             }
            },
            "type": "histogram"
           }
          ],
          "histogram2d": [
           {
            "colorbar": {
             "outlinewidth": 0,
             "ticks": ""
            },
            "colorscale": [
             [
              0,
              "#0d0887"
             ],
             [
              0.1111111111111111,
              "#46039f"
             ],
             [
              0.2222222222222222,
              "#7201a8"
             ],
             [
              0.3333333333333333,
              "#9c179e"
             ],
             [
              0.4444444444444444,
              "#bd3786"
             ],
             [
              0.5555555555555556,
              "#d8576b"
             ],
             [
              0.6666666666666666,
              "#ed7953"
             ],
             [
              0.7777777777777778,
              "#fb9f3a"
             ],
             [
              0.8888888888888888,
              "#fdca26"
             ],
             [
              1,
              "#f0f921"
             ]
            ],
            "type": "histogram2d"
           }
          ],
          "histogram2dcontour": [
           {
            "colorbar": {
             "outlinewidth": 0,
             "ticks": ""
            },
            "colorscale": [
             [
              0,
              "#0d0887"
             ],
             [
              0.1111111111111111,
              "#46039f"
             ],
             [
              0.2222222222222222,
              "#7201a8"
             ],
             [
              0.3333333333333333,
              "#9c179e"
             ],
             [
              0.4444444444444444,
              "#bd3786"
             ],
             [
              0.5555555555555556,
              "#d8576b"
             ],
             [
              0.6666666666666666,
              "#ed7953"
             ],
             [
              0.7777777777777778,
              "#fb9f3a"
             ],
             [
              0.8888888888888888,
              "#fdca26"
             ],
             [
              1,
              "#f0f921"
             ]
            ],
            "type": "histogram2dcontour"
           }
          ],
          "mesh3d": [
           {
            "colorbar": {
             "outlinewidth": 0,
             "ticks": ""
            },
            "type": "mesh3d"
           }
          ],
          "parcoords": [
           {
            "line": {
             "colorbar": {
              "outlinewidth": 0,
              "ticks": ""
             }
            },
            "type": "parcoords"
           }
          ],
          "pie": [
           {
            "automargin": true,
            "type": "pie"
           }
          ],
          "scatter": [
           {
            "fillpattern": {
             "fillmode": "overlay",
             "size": 10,
             "solidity": 0.2
            },
            "type": "scatter"
           }
          ],
          "scatter3d": [
           {
            "line": {
             "colorbar": {
              "outlinewidth": 0,
              "ticks": ""
             }
            },
            "marker": {
             "colorbar": {
              "outlinewidth": 0,
              "ticks": ""
             }
            },
            "type": "scatter3d"
           }
          ],
          "scattercarpet": [
           {
            "marker": {
             "colorbar": {
              "outlinewidth": 0,
              "ticks": ""
             }
            },
            "type": "scattercarpet"
           }
          ],
          "scattergeo": [
           {
            "marker": {
             "colorbar": {
              "outlinewidth": 0,
              "ticks": ""
             }
            },
            "type": "scattergeo"
           }
          ],
          "scattergl": [
           {
            "marker": {
             "colorbar": {
              "outlinewidth": 0,
              "ticks": ""
             }
            },
            "type": "scattergl"
           }
          ],
          "scattermapbox": [
           {
            "marker": {
             "colorbar": {
              "outlinewidth": 0,
              "ticks": ""
             }
            },
            "type": "scattermapbox"
           }
          ],
          "scatterpolar": [
           {
            "marker": {
             "colorbar": {
              "outlinewidth": 0,
              "ticks": ""
             }
            },
            "type": "scatterpolar"
           }
          ],
          "scatterpolargl": [
           {
            "marker": {
             "colorbar": {
              "outlinewidth": 0,
              "ticks": ""
             }
            },
            "type": "scatterpolargl"
           }
          ],
          "scatterternary": [
           {
            "marker": {
             "colorbar": {
              "outlinewidth": 0,
              "ticks": ""
             }
            },
            "type": "scatterternary"
           }
          ],
          "surface": [
           {
            "colorbar": {
             "outlinewidth": 0,
             "ticks": ""
            },
            "colorscale": [
             [
              0,
              "#0d0887"
             ],
             [
              0.1111111111111111,
              "#46039f"
             ],
             [
              0.2222222222222222,
              "#7201a8"
             ],
             [
              0.3333333333333333,
              "#9c179e"
             ],
             [
              0.4444444444444444,
              "#bd3786"
             ],
             [
              0.5555555555555556,
              "#d8576b"
             ],
             [
              0.6666666666666666,
              "#ed7953"
             ],
             [
              0.7777777777777778,
              "#fb9f3a"
             ],
             [
              0.8888888888888888,
              "#fdca26"
             ],
             [
              1,
              "#f0f921"
             ]
            ],
            "type": "surface"
           }
          ],
          "table": [
           {
            "cells": {
             "fill": {
              "color": "#EBF0F8"
             },
             "line": {
              "color": "white"
             }
            },
            "header": {
             "fill": {
              "color": "#C8D4E3"
             },
             "line": {
              "color": "white"
             }
            },
            "type": "table"
           }
          ]
         },
         "layout": {
          "annotationdefaults": {
           "arrowcolor": "#2a3f5f",
           "arrowhead": 0,
           "arrowwidth": 1
          },
          "autotypenumbers": "strict",
          "coloraxis": {
           "colorbar": {
            "outlinewidth": 0,
            "ticks": ""
           }
          },
          "colorscale": {
           "diverging": [
            [
             0,
             "#8e0152"
            ],
            [
             0.1,
             "#c51b7d"
            ],
            [
             0.2,
             "#de77ae"
            ],
            [
             0.3,
             "#f1b6da"
            ],
            [
             0.4,
             "#fde0ef"
            ],
            [
             0.5,
             "#f7f7f7"
            ],
            [
             0.6,
             "#e6f5d0"
            ],
            [
             0.7,
             "#b8e186"
            ],
            [
             0.8,
             "#7fbc41"
            ],
            [
             0.9,
             "#4d9221"
            ],
            [
             1,
             "#276419"
            ]
           ],
           "sequential": [
            [
             0,
             "#0d0887"
            ],
            [
             0.1111111111111111,
             "#46039f"
            ],
            [
             0.2222222222222222,
             "#7201a8"
            ],
            [
             0.3333333333333333,
             "#9c179e"
            ],
            [
             0.4444444444444444,
             "#bd3786"
            ],
            [
             0.5555555555555556,
             "#d8576b"
            ],
            [
             0.6666666666666666,
             "#ed7953"
            ],
            [
             0.7777777777777778,
             "#fb9f3a"
            ],
            [
             0.8888888888888888,
             "#fdca26"
            ],
            [
             1,
             "#f0f921"
            ]
           ],
           "sequentialminus": [
            [
             0,
             "#0d0887"
            ],
            [
             0.1111111111111111,
             "#46039f"
            ],
            [
             0.2222222222222222,
             "#7201a8"
            ],
            [
             0.3333333333333333,
             "#9c179e"
            ],
            [
             0.4444444444444444,
             "#bd3786"
            ],
            [
             0.5555555555555556,
             "#d8576b"
            ],
            [
             0.6666666666666666,
             "#ed7953"
            ],
            [
             0.7777777777777778,
             "#fb9f3a"
            ],
            [
             0.8888888888888888,
             "#fdca26"
            ],
            [
             1,
             "#f0f921"
            ]
           ]
          },
          "colorway": [
           "#636efa",
           "#EF553B",
           "#00cc96",
           "#ab63fa",
           "#FFA15A",
           "#19d3f3",
           "#FF6692",
           "#B6E880",
           "#FF97FF",
           "#FECB52"
          ],
          "font": {
           "color": "#2a3f5f"
          },
          "geo": {
           "bgcolor": "white",
           "lakecolor": "white",
           "landcolor": "#E5ECF6",
           "showlakes": true,
           "showland": true,
           "subunitcolor": "white"
          },
          "hoverlabel": {
           "align": "left"
          },
          "hovermode": "closest",
          "mapbox": {
           "style": "light"
          },
          "paper_bgcolor": "white",
          "plot_bgcolor": "#E5ECF6",
          "polar": {
           "angularaxis": {
            "gridcolor": "white",
            "linecolor": "white",
            "ticks": ""
           },
           "bgcolor": "#E5ECF6",
           "radialaxis": {
            "gridcolor": "white",
            "linecolor": "white",
            "ticks": ""
           }
          },
          "scene": {
           "xaxis": {
            "backgroundcolor": "#E5ECF6",
            "gridcolor": "white",
            "gridwidth": 2,
            "linecolor": "white",
            "showbackground": true,
            "ticks": "",
            "zerolinecolor": "white"
           },
           "yaxis": {
            "backgroundcolor": "#E5ECF6",
            "gridcolor": "white",
            "gridwidth": 2,
            "linecolor": "white",
            "showbackground": true,
            "ticks": "",
            "zerolinecolor": "white"
           },
           "zaxis": {
            "backgroundcolor": "#E5ECF6",
            "gridcolor": "white",
            "gridwidth": 2,
            "linecolor": "white",
            "showbackground": true,
            "ticks": "",
            "zerolinecolor": "white"
           }
          },
          "shapedefaults": {
           "line": {
            "color": "#2a3f5f"
           }
          },
          "ternary": {
           "aaxis": {
            "gridcolor": "white",
            "linecolor": "white",
            "ticks": ""
           },
           "baxis": {
            "gridcolor": "white",
            "linecolor": "white",
            "ticks": ""
           },
           "bgcolor": "#E5ECF6",
           "caxis": {
            "gridcolor": "white",
            "linecolor": "white",
            "ticks": ""
           }
          },
          "title": {
           "x": 0.05
          },
          "xaxis": {
           "automargin": true,
           "gridcolor": "white",
           "linecolor": "white",
           "ticks": "",
           "title": {
            "standoff": 15
           },
           "zerolinecolor": "white",
           "zerolinewidth": 2
          },
          "yaxis": {
           "automargin": true,
           "gridcolor": "white",
           "linecolor": "white",
           "ticks": "",
           "title": {
            "standoff": 15
           },
           "zerolinecolor": "white",
           "zerolinewidth": 2
          }
         }
        },
        "title": {
         "text": "Univariate drift metrics"
        },
        "xaxis": {
         "anchor": "y",
         "domain": [
          0,
          1
         ],
         "linecolor": "black",
         "matches": "x",
         "mirror": true,
         "showgrid": false,
         "showline": true,
         "title": {
          "text": "Time"
         },
         "type": "date",
         "zeroline": false
        },
        "yaxis": {
         "anchor": "x",
         "domain": [
          0,
          1
         ],
         "linecolor": "black",
         "mirror": true,
         "showgrid": false,
         "showline": true,
         "title": {
          "text": "Value"
         },
         "zeroline": false
        }
       }
      }
     },
     "metadata": {},
     "output_type": "display_data"
    }
   ],
   "source": [
    "from source.mlops_observation.utils.visualization import drift_distribution_cat_plot\n",
    "# t = drift_distribution_num_plot(\n",
    "#     reference=reference,\n",
    "#     current=current,\n",
    "#     col='temp',\n",
    "#     timestamp_col='time_stamp'\n",
    "# ).show()\n",
    "t = drift_distribution_cat_plot(\n",
    "    reference=reference,\n",
    "    current=current,\n",
    "    col='season',\n",
    "    timestamp_col='time_stamp',\n",
    "    kind='drift'\n",
    ")\n",
    "t.show()"
   ]
  },
  {
   "cell_type": "code",
   "execution_count": 20,
   "metadata": {},
   "outputs": [
    {
     "data": {
      "text/plain": [
       "Scatter({\n",
       "    'hoverinfo': 'skip',\n",
       "    'legendgroup': 'thresh',\n",
       "    'line': {'color': <Colors.RED_IMPERIAL: '#DD4040'>, 'dash': 'dash', 'width': 2},\n",
       "    'mode': 'lines',\n",
       "    'name': 'Threshold',\n",
       "    'showlegend': True,\n",
       "    'x': array([datetime.datetime(2011, 1, 1, 0, 0),\n",
       "                datetime.datetime(2011, 1, 31, 23, 59, 59, 999999)], dtype=object),\n",
       "    'xaxis': 'x',\n",
       "    'y': array([0., 0.]),\n",
       "    'yaxis': 'y'\n",
       "})"
      ]
     },
     "execution_count": 20,
     "metadata": {},
     "output_type": "execute_result"
    }
   ],
   "source": [
    "t.data[5]"
   ]
  },
  {
   "cell_type": "code",
   "execution_count": null,
   "metadata": {},
   "outputs": [],
   "source": [
    "from nannyml.distribution import ContinuousDistributionCalculator\n",
    "from nannyml.distribution import CategoricalDistributionCalculator\n",
    "import plotly.graph_objects as go\n",
    "from typing import List, Union, Literal\n",
    "\n",
    "def period_distribution_num_plot(\n",
    "    reference: pd.DataFrame, \n",
    "    current: pd.DataFrame, \n",
    "    col: str, \n",
    "    timestamp_col: str,\n",
    "    color_option: ColorOptions = ColorOptions(),\n",
    "    chunk_period: str = \"M\",\n",
    ") -> go.Figure:\n",
    "    # if col_type == 'num':\n",
    "    continuous_dist = ContinuousDistributionCalculator(\n",
    "    column_names=col,\n",
    "    timestamp_column_name = timestamp_col,\n",
    "    chunk_period=chunk_period,\n",
    "    )\n",
    "    fig = continuous_dist.fit(reference) \\\n",
    "        .calculate(current) \\\n",
    "        .filter(period='all', column_names=col) \\\n",
    "        .plot(kind='distribution')\n",
    "\n",
    "    found_analysis = False\n",
    "    for trace in fig.data:  \n",
    "        if 'x' in trace:\n",
    "            trace['x'] = pd.to_datetime(trace['x'], errors='coerce')  # Convert x values to datetime\n",
    "\n",
    "        if trace.name == \"Reference\":\n",
    "            trace.line.color = color_option.secondary_gradient_color[0]\n",
    "\n",
    "        if trace.name == \"Analysis\":  # Check if the trace name is \"Analysis\"\n",
    "            trace.line.color = color_option.primary_gradient_color[0]  # Update the color to red\n",
    "            found_analysis = True\n",
    "        \n",
    "        if found_analysis == True and isinstance(trace, go.Scatter) and trace.fill =='tonexty':\n",
    "            trace.fillcolor = color_option.primary_gradient_color[1]\n",
    "        else:\n",
    "            trace.fillcolor = color_option.secondary_gradient_color[1]\n",
    "\n",
    "\n",
    "    bg_color = fig.layout.plot_bgcolor or fig.layout.paper_bgcolor\n",
    "    axis_line_color = 'white' if bg_color in ['black', '#000000', '#111111'] else 'black'\n",
    "    fig.update_layout(\n",
    "        xaxis=dict(\n",
    "            type=\"date\",\n",
    "            title=\"Time\",\n",
    "            showline=True,\n",
    "            linecolor=axis_line_color,\n",
    "        ),\n",
    "        yaxis=dict(\n",
    "            title=\"Value\",\n",
    "            showline=True,\n",
    "            linecolor=axis_line_color,\n",
    "        ),\n",
    "        showlegend=True,\n",
    "        plot_bgcolor='rgba(0,0,0,0)',\n",
    "        paper_bgcolor='rgba(0,0,0,0)',\n",
    "    )\n",
    "    return fig"
   ]
  },
  {
   "cell_type": "code",
   "execution_count": null,
   "metadata": {},
   "outputs": [],
   "source": [
    "def period_distribution_cat_plot(\n",
    "    reference: pd.DataFrame, \n",
    "    current: pd.DataFrame, \n",
    "    col: str, \n",
    "    timestamp_col: str,\n",
    "    color_option: ColorOptions = ColorOptions(),\n",
    "    chunk_period: str = \"M\",\n",
    ") -> go.Figure:\n",
    "    categorical_dist = CategoricalDistributionCalculator(\n",
    "        column_names=col,\n",
    "        timestamp_column_name = timestamp_col,\n",
    "        chunk_period=chunk_period,\n",
    "    )\n",
    "    fig = categorical_dist.fit(reference) \\\n",
    "        .calculate(current) \\\n",
    "        .filter(period='all', column_names=col) \\\n",
    "        .plot(kind='distribution')\n",
    "    bg_color = fig.layout.plot_bgcolor or fig.layout.paper_bgcolor\n",
    "    axis_line_color = 'white' if bg_color in ['black', '#000000', '#111111'] else 'black'\n",
    "    fig.update_layout(\n",
    "    xaxis=dict(\n",
    "        type=\"date\",\n",
    "        title=\"Time\",\n",
    "        showline=True,\n",
    "        linecolor=axis_line_color,\n",
    "    ),\n",
    "    yaxis=dict(\n",
    "        title=\"Value\",\n",
    "        showline=True,\n",
    "        linecolor=axis_line_color,\n",
    "    ),\n",
    "    showlegend=True,\n",
    "    plot_bgcolor='rgba(0,0,0,0)',\n",
    "    paper_bgcolor='rgba(0,0,0,0)',\n",
    "    )\n",
    "    for annotation in fig.layout.annotations:\n",
    "        annotation.font.color = None\n",
    "    return fig"
   ]
  },
  {
   "cell_type": "code",
   "execution_count": null,
   "metadata": {},
   "outputs": [],
   "source": [
    "categorical_features"
   ]
  },
  {
   "cell_type": "code",
   "execution_count": null,
   "metadata": {},
   "outputs": [],
   "source": [
    "t = period_distribution_cat_plot(\n",
    "    reference,\n",
    "    current,\n",
    "    'workingday',\n",
    "    'time_stamp'\n",
    ")\n",
    "t.show()"
   ]
  },
  {
   "cell_type": "code",
   "execution_count": null,
   "metadata": {},
   "outputs": [],
   "source": [
    "import plotly.graph_objects as go\n",
    "import pandas as pd\n",
    "\n",
    "\n",
    "# Assuming `t` contains the traces from period_distribution_plot\n",
    "t = period_distribution_cat_plot(\n",
    "    reference, \n",
    "    current, \n",
    "    col=['season'], \n",
    "    timestamp_col='time_stamp'\n",
    ")\n",
    "t.show()"
   ]
  },
  {
   "cell_type": "markdown",
   "metadata": {},
   "source": [
    "# Metrics"
   ]
  },
  {
   "cell_type": "code",
   "execution_count": null,
   "metadata": {},
   "outputs": [],
   "source": [
    "from evidently.renderers.base_renderer import MetricRenderer, default_renderer\n",
    "from evidently.model.widget import BaseWidgetInfo\n",
    "from evidently.base_metric import MetricResult, Metric, InputData\n",
    "from mlops_observation.metric_results.data_drift import CategoricalFeatureDrift, NumericFeatureDrift\n",
    "\n",
    "from typing import Optional, Dict, List\n",
    "from typing import Union\n",
    "from evidently.renderers.base_renderer import MetricRenderer, default_renderer\n",
    "from evidently.model.widget import BaseWidgetInfo\n",
    "from evidently.base_metric import InputData, Metric, MetricResult\n",
    "from evidently.utils.data_operations import process_columns\n",
    "from evidently import ColumnMapping\n",
    "\n",
    "from evidently.renderers.html_widgets import ColumnDefinition\n",
    "from evidently.renderers.html_widgets import RichTableDataRow\n",
    "from evidently.renderers.html_widgets import RowDetails\n",
    "from evidently.renderers.html_widgets import CounterData\n",
    "from evidently.renderers.html_widgets import rich_table_data\n",
    "from evidently.renderers.html_widgets import header_text\n",
    "from evidently.renderers.html_widgets import plotly_figure\n",
    "from evidently.renderers.html_widgets import rich_table_data\n",
    "from evidently.renderers.html_widgets import table_data\n",
    "from evidently.renderers.html_widgets import counter\n",
    "from evidently.utils.visualizations import plot_distr\n",
    "from evidently.renderers import html_widgets\n",
    "from evidently.renderers.html_widgets import plotly_data\n"
   ]
  },
  {
   "cell_type": "code",
   "execution_count": null,
   "metadata": {},
   "outputs": [],
   "source": [
    "class PeriodDataDrifts(MetricResult):\n",
    "    class Config:\n",
    "        type_alias = \"evidently:metric_result:DataDriftResult\"\n",
    "    numerical_feature_period_results: Optional[Dict[str, NumericFeatureDrift]]\n",
    "    categorical_feature_period_results: Optional[Dict[str, CategoricalFeatureDrift]]\n",
    "    fig: Optional[go.Figure]\n",
    "\n",
    "class DataDriftMetric(Metric[PeriodDataDrifts]):\n",
    "    \"\"\"\n",
    "    time_period (str): Offset aliases https://pandas.pydata.org/docs/user_guide/timeseries.html#dateoffset-objects\n",
    "    \"\"\"\n",
    "    class Config:\n",
    "        type_alias = \"evidently:metric:DataDriftMetric\"\n",
    "    _time_period: str\n",
    "    def __init__(self, time_period: str = 'M'):\n",
    "        self._time_period = time_period\n",
    "        super().__init__()\n",
    "\n",
    "    def calculate(self, data: InputData):\n",
    "        if data.reference_data is None:\n",
    "            raise ValueError(\"Reference dataset should be present\")\n",
    "        if data.current_data is None:\n",
    "            raise ValueError(\"Current dataset should be present\")\n",
    "        column_mapping = data.column_mapping\n",
    "        # fig = period_distribution_num_plot(\n",
    "        #     reference=data.reference_data,\n",
    "        #     current=data.current_data,\n",
    "        #     col=column_mapping.numerical_features,\n",
    "        #     timestamp_col=column_mapping.datetime_features,\n",
    "        # )\n",
    "        fig = period_distribution_cat_plot(\n",
    "            reference=data.reference_data,\n",
    "            current=data.current_data,\n",
    "            col=column_mapping.categorical_features,\n",
    "            timestamp_col=column_mapping.datetime_features,\n",
    "            chunk_period=self._time_period\n",
    "        )\n",
    "        \n",
    "        return PeriodDataDrifts(fig=fig)\n",
    "@default_renderer(wrap_type=DataDriftMetric)\n",
    "class DataDriftRender(MetricRenderer):\n",
    "    def render_json(self, obj: DataDriftMetric, include_render: bool = False,\n",
    "        include: \"IncludeOptions\" = None, exclude: \"IncludeOptions\" = None,) -> dict:\n",
    "        result = obj.get_result().get_dict(include_render, include, exclude)\n",
    "        return result\n",
    "    def render_html(self, obj: DataDriftMetric) -> List[BaseWidgetInfo]:\n",
    "        results = obj.get_result()\n",
    "        color_options = self.color_options\n",
    "        fig = results.fig\n",
    "        hist = plotly_figure(title='...',figure=fig)\n",
    "        # hist = plotly_figure(title='', figure=results.fig)\n",
    "        return [\n",
    "            hist\n",
    "        ]"
   ]
  },
  {
   "cell_type": "code",
   "execution_count": null,
   "metadata": {},
   "outputs": [],
   "source": [
    "from evidently import ColumnMapping\n",
    "\n",
    "target = 'cnt'\n",
    "prediction = 'prediction'\n",
    "numerical_features = ['temp', 'atemp', 'hum', 'windspeed', 'hr', 'weekday']\n",
    "categorical_features = ['season', 'holiday', 'workingday']\n",
    "column_mapping = ColumnMapping()\n",
    "column_mapping.numerical_features = numerical_features\n",
    "column_mapping.categorical_features = categorical_features\n",
    "column_mapping.datetime_features = 'time_stamp'"
   ]
  },
  {
   "cell_type": "code",
   "execution_count": null,
   "metadata": {},
   "outputs": [],
   "source": [
    "from evidently.report import Report\n",
    "report = Report([DataDriftMetric()])\n",
    "report.run(reference_data=reference, current_data=current, column_mapping=column_mapping)\n",
    "report.save_html('1.html')"
   ]
  },
  {
   "cell_type": "code",
   "execution_count": null,
   "metadata": {},
   "outputs": [],
   "source": [
    "from source.mlops_observation.utils.visualization import drift_distribution_cat_plot, drift_distribution_num_plot\n",
    "\n",
    "t = drift_distribution_num_plot(\n",
    "    reference=reference,\n",
    "    current=current,\n",
    "    col='temp',\n",
    "    timestamp_col='time_stamp'\n",
    ").show()\n",
    "t = drift_distribution_cat_plot(\n",
    "    reference=reference,\n",
    "    current=current,\n",
    "    col='season',\n",
    "    timestamp_col='time_stamp'\n",
    ")\n",
    "t.show()"
   ]
  },
  {
   "cell_type": "code",
   "execution_count": null,
   "metadata": {},
   "outputs": [
    {
     "ename": "NameError",
     "evalue": "name 'Literal' is not defined",
     "output_type": "error",
     "traceback": [
      "\u001b[1;31m---------------------------------------------------------------------------\u001b[0m",
      "\u001b[1;31mNameError\u001b[0m                                 Traceback (most recent call last)",
      "Cell \u001b[1;32mIn[6], line 7\u001b[0m\n\u001b[0;32m      1\u001b[0m \u001b[38;5;28;01mfrom\u001b[39;00m \u001b[38;5;21;01msource\u001b[39;00m\u001b[38;5;21;01m.\u001b[39;00m\u001b[38;5;21;01mmlops_observation\u001b[39;00m\u001b[38;5;21;01m.\u001b[39;00m\u001b[38;5;21;01mutils\u001b[39;00m\u001b[38;5;21;01m.\u001b[39;00m\u001b[38;5;21;01mvisualization\u001b[39;00m \u001b[38;5;28;01mimport\u001b[39;00m combine_fig\n\u001b[0;32m      3\u001b[0m \u001b[38;5;28;01mdef\u001b[39;00m \u001b[38;5;21mcombine_drift_each_col_plot\u001b[39m(\n\u001b[0;32m      4\u001b[0m     reference: pd\u001b[38;5;241m.\u001b[39mDataFrame, \n\u001b[0;32m      5\u001b[0m     current: pd\u001b[38;5;241m.\u001b[39mDataFrame, \n\u001b[0;32m      6\u001b[0m     col_name:\u001b[38;5;28mstr\u001b[39m, \n\u001b[1;32m----> 7\u001b[0m     type_col: \u001b[43mLiteral\u001b[49m[\u001b[38;5;124m'\u001b[39m\u001b[38;5;124mnum\u001b[39m\u001b[38;5;124m'\u001b[39m, \u001b[38;5;124m'\u001b[39m\u001b[38;5;124mcat\u001b[39m\u001b[38;5;124m'\u001b[39m],\n\u001b[0;32m      8\u001b[0m     time_stamp_col : \u001b[38;5;28mstr\u001b[39m,\n\u001b[0;32m      9\u001b[0m     kind: Literal[\u001b[38;5;124m'\u001b[39m\u001b[38;5;124mdrift\u001b[39m\u001b[38;5;124m'\u001b[39m, \u001b[38;5;124m'\u001b[39m\u001b[38;5;124mdistribution\u001b[39m\u001b[38;5;124m'\u001b[39m],\n\u001b[0;32m     10\u001b[0m     num_drift_methods \u001b[38;5;241m=\u001b[39m [\u001b[38;5;124m'\u001b[39m\u001b[38;5;124mkolmogorov_smirnov\u001b[39m\u001b[38;5;124m'\u001b[39m, \u001b[38;5;124m'\u001b[39m\u001b[38;5;124mjensen_shannon\u001b[39m\u001b[38;5;124m'\u001b[39m, \u001b[38;5;124m'\u001b[39m\u001b[38;5;124mwasserstein\u001b[39m\u001b[38;5;124m'\u001b[39m],\n\u001b[0;32m     11\u001b[0m     cat_drift_methods \u001b[38;5;241m=\u001b[39m [\u001b[38;5;124m'\u001b[39m\u001b[38;5;124mchi2\u001b[39m\u001b[38;5;124m'\u001b[39m, \u001b[38;5;124m'\u001b[39m\u001b[38;5;124mjensen_shannon\u001b[39m\u001b[38;5;124m'\u001b[39m],\n\u001b[0;32m     12\u001b[0m     chunk_period: \u001b[38;5;28mstr\u001b[39m \u001b[38;5;241m=\u001b[39m \u001b[38;5;124m\"\u001b[39m\u001b[38;5;124mM\u001b[39m\u001b[38;5;124m\"\u001b[39m\n\u001b[0;32m     13\u001b[0m     ) \u001b[38;5;241m-\u001b[39m\u001b[38;5;241m>\u001b[39m go\u001b[38;5;241m.\u001b[39mFigure:\n\u001b[0;32m     15\u001b[0m     drift_figures \u001b[38;5;241m=\u001b[39m []\n\u001b[0;32m     17\u001b[0m     \u001b[38;5;28;01mif\u001b[39;00m kind \u001b[38;5;129;01mnot\u001b[39;00m \u001b[38;5;129;01min\u001b[39;00m [\u001b[38;5;124m'\u001b[39m\u001b[38;5;124mdrift\u001b[39m\u001b[38;5;124m'\u001b[39m, \u001b[38;5;124m'\u001b[39m\u001b[38;5;124mdistribution\u001b[39m\u001b[38;5;124m'\u001b[39m]:\n",
      "\u001b[1;31mNameError\u001b[0m: name 'Literal' is not defined"
     ]
    }
   ],
   "source": [
    "from source.mlops_observation.utils.visualization import combine_fig\n",
    "\n",
    "def combine_drift_each_col_plot(\n",
    "    reference: pd.DataFrame, \n",
    "    current: pd.DataFrame, \n",
    "    col_name:str, \n",
    "    type_col: Literal['num', 'cat'],\n",
    "    time_stamp_col : str,\n",
    "    kind: Literal['drift', 'distribution'],\n",
    "    num_drift_methods = ['kolmogorov_smirnov', 'jensen_shannon', 'wasserstein'],\n",
    "    cat_drift_methods = ['chi2', 'jensen_shannon'],\n",
    "    chunk_period: str = \"M\"\n",
    "    ) -> go.Figure:\n",
    "\n",
    "    drift_figures = []\n",
    "    \n",
    "    if kind not in ['drift', 'distribution']:\n",
    "        raise ValueError(\"kind must be 'drift' or 'distribution'\")\n",
    "\n",
    "    if type_col == 'num':\n",
    "        for method in num_drift_methods:\n",
    "            drift_figures.append(\n",
    "                drift_distribution_num_plot(\n",
    "                    reference=reference,\n",
    "                    current=current,\n",
    "                    col=col_name,\n",
    "                    num_drift_method=method,\n",
    "                    kind=kind,\n",
    "                    timestamp_col=time_stamp_col,\n",
    "                    chunk_period=chunk_period)\n",
    "            )\n",
    "        drift_combined_fig = combine_fig(drift_figures, num_drift_methods)\n",
    "\n",
    "    elif type_col == 'cat':\n",
    "        for method in cat_drift_methods:\n",
    "            drift_figures.append(\n",
    "                drift_distribution_cat_plot(\n",
    "                    reference=reference,\n",
    "                    current=current,\n",
    "                    col=col_name,\n",
    "                    cat_drift_method=method,\n",
    "                    kind=kind,\n",
    "                    timestamp_col=time_stamp_col,\n",
    "                    chunk_period=chunk_period)\n",
    "            )\n",
    "        drift_combined_fig = combine_fig(drift_figures, cat_drift_methods)\n",
    "    else:\n",
    "        raise ValueError(\"type_col must be 'num' or 'cat'\")\n",
    "        \n",
    "    return drift_combined_fig\n"
   ]
  },
  {
   "cell_type": "code",
   "execution_count": null,
   "metadata": {},
   "outputs": [
    {
     "ename": "TypeError",
     "evalue": "combine_drift_each_col_plot() got an unexpected keyword argument 'chunk_period'",
     "output_type": "error",
     "traceback": [
      "\u001b[1;31m---------------------------------------------------------------------------\u001b[0m",
      "\u001b[1;31mTypeError\u001b[0m                                 Traceback (most recent call last)",
      "Cell \u001b[1;32mIn[5], line 1\u001b[0m\n\u001b[1;32m----> 1\u001b[0m \u001b[43mcombine_drift_each_col_plot\u001b[49m\u001b[43m(\u001b[49m\n\u001b[0;32m      2\u001b[0m \u001b[43m    \u001b[49m\u001b[43mreference\u001b[49m\u001b[43m,\u001b[49m\u001b[43m \u001b[49m\n\u001b[0;32m      3\u001b[0m \u001b[43m    \u001b[49m\u001b[43mcurrent\u001b[49m\u001b[43m,\u001b[49m\u001b[43m \u001b[49m\n\u001b[0;32m      4\u001b[0m \u001b[43m    \u001b[49m\u001b[43mcol_name\u001b[49m\u001b[38;5;241;43m=\u001b[39;49m\u001b[38;5;124;43m'\u001b[39;49m\u001b[38;5;124;43mholiday\u001b[39;49m\u001b[38;5;124;43m'\u001b[39;49m\u001b[43m,\u001b[49m\u001b[43m \u001b[49m\n\u001b[0;32m      5\u001b[0m \u001b[43m    \u001b[49m\u001b[43mtype_col\u001b[49m\u001b[38;5;241;43m=\u001b[39;49m\u001b[38;5;124;43m'\u001b[39;49m\u001b[38;5;124;43mcat\u001b[39;49m\u001b[38;5;124;43m'\u001b[39;49m\u001b[43m,\u001b[49m\n\u001b[0;32m      6\u001b[0m \u001b[43m    \u001b[49m\u001b[43mtime_stamp_col\u001b[49m\u001b[38;5;241;43m=\u001b[39;49m\u001b[38;5;124;43m'\u001b[39;49m\u001b[38;5;124;43mtime_stamp\u001b[39;49m\u001b[38;5;124;43m'\u001b[39;49m\u001b[43m,\u001b[49m\n\u001b[0;32m      7\u001b[0m \u001b[43m    \u001b[49m\u001b[43mkind\u001b[49m\u001b[38;5;241;43m=\u001b[39;49m\u001b[38;5;124;43m'\u001b[39;49m\u001b[38;5;124;43mdrift\u001b[39;49m\u001b[38;5;124;43m'\u001b[39;49m\u001b[43m,\u001b[49m\u001b[43m \u001b[49m\n\u001b[0;32m      8\u001b[0m \u001b[43m    \u001b[49m\u001b[43mchunk_period\u001b[49m\u001b[38;5;241;43m=\u001b[39;49m\u001b[38;5;124;43m'\u001b[39;49m\u001b[38;5;124;43mM\u001b[39;49m\u001b[38;5;124;43m'\u001b[39;49m\u001b[43m)\u001b[49m\n",
      "\u001b[1;31mTypeError\u001b[0m: combine_drift_each_col_plot() got an unexpected keyword argument 'chunk_period'"
     ]
    }
   ],
   "source": [
    "combine_drift_each_col_plot(\n",
    "    reference, \n",
    "    current, \n",
    "    col_name='holiday', \n",
    "    type_col='cat',\n",
    "    time_stamp_col='time_stamp',\n",
    "    kind='drift', \n",
    "    chunk_period='M')"
   ]
  },
  {
   "cell_type": "code",
   "execution_count": null,
   "metadata": {},
   "outputs": [],
   "source": []
  }
 ],
 "metadata": {
  "interpreter": {
   "hash": "207e60eac2ff56558166198e2c0941ea4216ea025c42ddd95d3a76ed9cb3f5a9"
  },
  "kernelspec": {
   "display_name": "Python 3.10.15 ('model-monitoring')",
   "language": "python",
   "name": "python3"
  },
  "language_info": {
   "codemirror_mode": {
    "name": "ipython",
    "version": 3
   },
   "file_extension": ".py",
   "mimetype": "text/x-python",
   "name": "python",
   "nbconvert_exporter": "python",
   "pygments_lexer": "ipython3",
   "version": "3.10.15"
  },
  "orig_nbformat": 4
 },
 "nbformat": 4,
 "nbformat_minor": 2
}
